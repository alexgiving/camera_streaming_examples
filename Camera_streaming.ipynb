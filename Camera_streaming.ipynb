{
 "cells": [
  {
   "cell_type": "markdown",
   "metadata": {},
   "source": [
    "# CDD Streaming"
   ]
  },
  {
   "cell_type": "code",
   "execution_count": null,
   "metadata": {},
   "outputs": [],
   "source": [
    "!pip3 install opencv-python  > /dev/null\n",
    "!pip3 install albumentations > /dev/null"
   ]
  },
  {
   "cell_type": "code",
   "execution_count": 53,
   "metadata": {},
   "outputs": [],
   "source": [
    "import cv2 as cv\n",
    "import albumentations as a\n",
    "\n",
    "\n",
    "def get_training_augmentation(_src, _bboxes, _category_id, _size):\n",
    "    transform = a.Compose([a.Resize(_size[0], _size[1])], bbox_params=a.BboxParams(format='coco', label_fields=['category_id']))\n",
    "    return transform(image=_src, bboxes=_bboxes, category_id=_category_id)['bboxes']\n",
    "\n",
    "\n",
    "# BGR\n",
    "BOX_COLOR = (0, 0, 225) # Red\n",
    "BOX_THICKESS = 5\n",
    "TEXT_COLOR = (255, 255, 255) # White\n",
    "TEXT_SIZE = 0.9\n",
    "TEXT_FONT = 0\n",
    "IMG_SIZE = (200, 200)\n",
    "\n",
    "category_id_to_name = { 1: \"dent\", 2: \"broken_glass\", 3: \"deflated_wheel\", 4: \"scratch\", 5: \"broken_headlight\"}\n",
    "\n",
    "def show_webcam(mirror=False):\n",
    "    cam = cv.VideoCapture(0)\n",
    "    for fps in range(5000):\n",
    "        _, img = cam.read()\n",
    "        #img = cv.resize(img, (round(200+fps), round(200+fps)))\n",
    "        size = img.shape\n",
    "\n",
    "##########\n",
    "###Back###\n",
    "##########\n",
    "        img_crop = cv.resize(img, IMG_SIZE)\n",
    "        #########################################################\n",
    "        # bbox, category_id = model.detect(img_crop) \n",
    "        bbox = [10, 10, 150, 150]\n",
    "        category_id = [1]\n",
    "        #########################################################\n",
    "        transformed_bboxes = get_training_augmentation( img_crop,       \\\n",
    "                                                        [bbox],         \\\n",
    "                                                        [category_id],  \\\n",
    "                                                        size           \\\n",
    "                                                        )\n",
    "##########\n",
    "###Back###\n",
    "##########\n",
    "\n",
    "        if mirror: \n",
    "            img = cv.flip(img, 1)\n",
    "\n",
    "        for left, top, right, bottom in transformed_bboxes:\n",
    "            left, top, right, bottom = int(left), int(top), int(right), int(bottom)\n",
    "            cv.rectangle(img,(left,top),(right, bottom), BOX_COLOR, BOX_THICKESS)\n",
    "            cv.putText(img, category_id_to_name.get(category_id[0]), (right+10, bottom), TEXT_FONT, TEXT_SIZE, TEXT_COLOR)\n",
    "\n",
    "        cv.imshow('my webcam', img)\n",
    "        if cv.waitKey(1) == 27: \n",
    "            break  # esc to quit\n",
    "    cv.destroyAllWindows()\n",
    "\n",
    "show_webcam(mirror=True)"
   ]
  },
  {
   "cell_type": "markdown",
   "metadata": {},
   "source": [
    "# Face Detection Streaming"
   ]
  },
  {
   "cell_type": "code",
   "execution_count": 1,
   "metadata": {},
   "outputs": [],
   "source": [
    "!pip3 install dlib             > /dev/null\n",
    "!pip3 install face_recognition > /dev/null\n",
    "!pip3 install opencv-python    > /dev/null"
   ]
  },
  {
   "cell_type": "code",
   "execution_count": 55,
   "metadata": {},
   "outputs": [],
   "source": [
    "# import libraries\n",
    "import cv2 as cv\n",
    "import face_recognition\n",
    " \n",
    "video_capture = cv.VideoCapture(0)\n",
    "face_locations = []\n",
    " \n",
    "while True:\n",
    "    ret, frame = video_capture.read()\n",
    "    frame = cv.flip(frame, 1)      # mirror\n",
    "    rgb_frame = frame[:, :, ::-1]  # to RGB\n",
    "\n",
    "    face_locations = face_recognition.face_locations(rgb_frame)\n",
    "    \n",
    "    for top, right, bottom, left in face_locations:\n",
    "        cv.rectangle(frame, (left, top), (right, bottom), (0, 0, 255), 2)\n",
    "\n",
    "    cv.imshow('Video', frame)      \n",
    "    if cv.waitKey(1) == 27: \n",
    "        break  # esc to quit\n",
    " \n",
    "video_capture.release()\n",
    "cv.destroyAllWindows()"
   ]
  }
 ],
 "metadata": {
  "interpreter": {
   "hash": "dbc59c1602769476583de30dcfaf94a717f95996dfb09063277734c10faa726c"
  },
  "kernelspec": {
   "display_name": "Python 3.8.8 ('base')",
   "language": "python",
   "name": "python3"
  },
  "language_info": {
   "codemirror_mode": {
    "name": "ipython",
    "version": 3
   },
   "file_extension": ".py",
   "mimetype": "text/x-python",
   "name": "python",
   "nbconvert_exporter": "python",
   "pygments_lexer": "ipython3",
   "version": "3.8.8"
  },
  "orig_nbformat": 4
 },
 "nbformat": 4,
 "nbformat_minor": 2
}
